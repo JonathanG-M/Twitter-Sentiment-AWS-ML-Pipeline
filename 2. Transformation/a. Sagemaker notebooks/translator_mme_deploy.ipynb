{
 "cells": [
  {
   "cell_type": "markdown",
   "metadata": {},
   "source": [
    "# Multi Model Endpoint Deployment\n",
    "In this notebook I import translator models hosted on Hugging Face's pre-trained model hub  and we save them to an S3 bucket where they can be called on by a single SageMaker endpoint, a multi model endpoint. I selected the top 20 languages based on 2 weeks of streaming Twitter data. We will import a model for 19 of the top 20 languages. Skipping Portuguese because it didn't have its own Portuguese to English model."
   ]
  },
  {
   "cell_type": "markdown",
   "metadata": {},
   "source": [
    "## Table of contents: <a class=\"anchor\" id=\"home\"></a>\n",
    "\n",
    "* [1. Set up enviornment](#env)\n",
    "  * [1.1 Import modules](#modules)\n",
    "  * [1.2 Initialize session objects](#sess)\n",
    "* [2. Import models](#import)\n",
    "  * [2.1 Prepare model names](#names)\n",
    "  * [2.2 Download, compress and send models to S3 bucket](#package)\n",
    "* [3. Create SageMaker multi model endpoint](#mme)\n",
    "  * [3.1 Create SageMaker multi data model](#multidatamodel)\n",
    "  * [3.2 Deploy multi model endpoint](#deploy)"
   ]
  },
  {
   "cell_type": "markdown",
   "metadata": {},
   "source": [
    "## 1. Set up environment <a class=\"anchor\" id=\"env\"></a>\n",
    "[Back to top](#home)"
   ]
  },
  {
   "cell_type": "markdown",
   "metadata": {},
   "source": [
    "#### 1.1 Import modules <a class=\"anchor\" id=\"modules\"></a>\n",
    "[Back to top](#home)"
   ]
  },
  {
   "cell_type": "code",
   "execution_count": 17,
   "metadata": {},
   "outputs": [
    {
     "name": "stdout",
     "output_type": "stream",
     "text": [
      "Requirement already satisfied: transformers in /opt/conda/lib/python3.6/site-packages (4.18.0)\n",
      "Requirement already satisfied: pyyaml>=5.1 in /opt/conda/lib/python3.6/site-packages (from transformers) (5.4.1)\n",
      "Requirement already satisfied: importlib-metadata in /opt/conda/lib/python3.6/site-packages (from transformers) (1.7.0)\n",
      "Requirement already satisfied: regex!=2019.12.17 in /opt/conda/lib/python3.6/site-packages (from transformers) (2022.4.24)\n",
      "Requirement already satisfied: tokenizers!=0.11.3,<0.13,>=0.11.1 in /opt/conda/lib/python3.6/site-packages (from transformers) (0.12.1)\n",
      "Requirement already satisfied: sacremoses in /opt/conda/lib/python3.6/site-packages (from transformers) (0.0.53)\n",
      "Requirement already satisfied: dataclasses in /opt/conda/lib/python3.6/site-packages (from transformers) (0.8)\n",
      "Requirement already satisfied: numpy>=1.17 in /opt/conda/lib/python3.6/site-packages (from transformers) (1.19.1)\n",
      "Requirement already satisfied: requests in /opt/conda/lib/python3.6/site-packages (from transformers) (2.26.0)\n",
      "Requirement already satisfied: filelock in /opt/conda/lib/python3.6/site-packages (from transformers) (3.4.0)\n",
      "Requirement already satisfied: huggingface-hub<1.0,>=0.1.0 in /opt/conda/lib/python3.6/site-packages (from transformers) (0.4.0)\n",
      "Requirement already satisfied: packaging>=20.0 in /opt/conda/lib/python3.6/site-packages (from transformers) (21.3)\n",
      "Requirement already satisfied: tqdm>=4.27 in /opt/conda/lib/python3.6/site-packages (from transformers) (4.61.2)\n",
      "Requirement already satisfied: typing-extensions>=3.7.4.3 in /opt/conda/lib/python3.6/site-packages (from huggingface-hub<1.0,>=0.1.0->transformers) (3.10.0.2)\n",
      "Requirement already satisfied: pyparsing!=3.0.5,>=2.0.2 in /opt/conda/lib/python3.6/site-packages (from packaging>=20.0->transformers) (3.0.6)\n",
      "Requirement already satisfied: zipp>=0.5 in /opt/conda/lib/python3.6/site-packages (from importlib-metadata->transformers) (3.6.0)\n",
      "Requirement already satisfied: certifi>=2017.4.17 in /opt/conda/lib/python3.6/site-packages (from requests->transformers) (2021.5.30)\n",
      "Requirement already satisfied: urllib3<1.27,>=1.21.1 in /opt/conda/lib/python3.6/site-packages (from requests->transformers) (1.26.6)\n",
      "Requirement already satisfied: idna<4,>=2.5 in /opt/conda/lib/python3.6/site-packages (from requests->transformers) (2.10)\n",
      "Requirement already satisfied: charset-normalizer~=2.0.0 in /opt/conda/lib/python3.6/site-packages (from requests->transformers) (2.0.4)\n",
      "Requirement already satisfied: click in /opt/conda/lib/python3.6/site-packages (from sacremoses->transformers) (8.0.3)\n",
      "Requirement already satisfied: joblib in /opt/conda/lib/python3.6/site-packages (from sacremoses->transformers) (1.0.1)\n",
      "Requirement already satisfied: six in /opt/conda/lib/python3.6/site-packages (from sacremoses->transformers) (1.16.0)\n",
      "\u001b[33mWARNING: Running pip as the 'root' user can result in broken permissions and conflicting behaviour with the system package manager. It is recommended to use a virtual environment instead: https://pip.pypa.io/warnings/venv\u001b[0m\n",
      "Requirement already satisfied: sagemaker in /opt/conda/lib/python3.6/site-packages (2.92.1)\n",
      "Requirement already satisfied: pathos in /opt/conda/lib/python3.6/site-packages (from sagemaker) (0.2.8)\n",
      "Requirement already satisfied: protobuf<4.0,>=3.1 in /opt/conda/lib/python3.6/site-packages (from sagemaker) (3.19.1)\n",
      "Requirement already satisfied: boto3<2.0,>=1.20.21 in /opt/conda/lib/python3.6/site-packages (from sagemaker) (1.20.24)\n",
      "Requirement already satisfied: attrs==20.3.0 in /opt/conda/lib/python3.6/site-packages (from sagemaker) (20.3.0)\n",
      "Requirement already satisfied: importlib-metadata<2.0,>=1.4.0 in /opt/conda/lib/python3.6/site-packages (from sagemaker) (1.7.0)\n",
      "Requirement already satisfied: packaging>=20.0 in /opt/conda/lib/python3.6/site-packages (from sagemaker) (21.3)\n",
      "Requirement already satisfied: pandas in /opt/conda/lib/python3.6/site-packages (from sagemaker) (1.1.5)\n",
      "Requirement already satisfied: numpy<2.0,>=1.9.0 in /opt/conda/lib/python3.6/site-packages (from sagemaker) (1.19.1)\n",
      "Requirement already satisfied: google-pasta in /opt/conda/lib/python3.6/site-packages (from sagemaker) (0.2.0)\n",
      "Requirement already satisfied: smdebug-rulesconfig==1.0.1 in /opt/conda/lib/python3.6/site-packages (from sagemaker) (1.0.1)\n",
      "Requirement already satisfied: protobuf3-to-dict<1.0,>=0.1.5 in /opt/conda/lib/python3.6/site-packages (from sagemaker) (0.1.5)\n",
      "Requirement already satisfied: s3transfer<0.6.0,>=0.5.0 in /opt/conda/lib/python3.6/site-packages (from boto3<2.0,>=1.20.21->sagemaker) (0.5.0)\n",
      "Requirement already satisfied: jmespath<1.0.0,>=0.7.1 in /opt/conda/lib/python3.6/site-packages (from boto3<2.0,>=1.20.21->sagemaker) (0.10.0)\n",
      "Requirement already satisfied: botocore<1.24.0,>=1.23.24 in /opt/conda/lib/python3.6/site-packages (from boto3<2.0,>=1.20.21->sagemaker) (1.23.24)\n",
      "Requirement already satisfied: zipp>=0.5 in /opt/conda/lib/python3.6/site-packages (from importlib-metadata<2.0,>=1.4.0->sagemaker) (3.6.0)\n",
      "Requirement already satisfied: pyparsing!=3.0.5,>=2.0.2 in /opt/conda/lib/python3.6/site-packages (from packaging>=20.0->sagemaker) (3.0.6)\n",
      "Requirement already satisfied: six in /opt/conda/lib/python3.6/site-packages (from protobuf3-to-dict<1.0,>=0.1.5->sagemaker) (1.16.0)\n",
      "Requirement already satisfied: python-dateutil>=2.7.3 in /opt/conda/lib/python3.6/site-packages (from pandas->sagemaker) (2.8.2)\n",
      "Requirement already satisfied: pytz>=2017.2 in /opt/conda/lib/python3.6/site-packages (from pandas->sagemaker) (2021.3)\n",
      "Requirement already satisfied: multiprocess>=0.70.12 in /opt/conda/lib/python3.6/site-packages (from pathos->sagemaker) (0.70.12.2)\n",
      "Requirement already satisfied: pox>=0.3.0 in /opt/conda/lib/python3.6/site-packages (from pathos->sagemaker) (0.3.0)\n",
      "Requirement already satisfied: dill>=0.3.4 in /opt/conda/lib/python3.6/site-packages (from pathos->sagemaker) (0.3.4)\n",
      "Requirement already satisfied: ppft>=1.6.6.4 in /opt/conda/lib/python3.6/site-packages (from pathos->sagemaker) (1.6.6.4)\n",
      "Requirement already satisfied: urllib3<1.27,>=1.25.4 in /opt/conda/lib/python3.6/site-packages (from botocore<1.24.0,>=1.23.24->boto3<2.0,>=1.20.21->sagemaker) (1.26.6)\n",
      "\u001b[33mWARNING: Running pip as the 'root' user can result in broken permissions and conflicting behaviour with the system package manager. It is recommended to use a virtual environment instead: https://pip.pypa.io/warnings/venv\u001b[0m\n",
      "Requirement already satisfied: sentencepiece in /opt/conda/lib/python3.6/site-packages (0.1.96)\n",
      "\u001b[33mWARNING: Running pip as the 'root' user can result in broken permissions and conflicting behaviour with the system package manager. It is recommended to use a virtual environment instead: https://pip.pypa.io/warnings/venv\u001b[0m\n"
     ]
    }
   ],
   "source": [
    "# Install packages if not installed\n",
    "!pip install -U transformers\n",
    "!pip install -U sagemaker\n",
    "!pip install sentencepiece"
   ]
  },
  {
   "cell_type": "code",
   "execution_count": 18,
   "metadata": {},
   "outputs": [],
   "source": [
    "# Import packages\n",
    "# Utility\n",
    "import tarfile\n",
    "import sentencepiece\n",
    "\n",
    "# AWS\n",
    "import boto3\n",
    "# AWS SageMaker\n",
    "import sagemaker\n",
    "from sagemaker.huggingface import HuggingFaceModel\n",
    "from sagemaker.serializers import JSONSerializer\n",
    "from sagemaker.deserializers import JSONDeserializer\n",
    "from sagemaker.multidatamodel import MultiDataModel\n",
    "from sagemaker.predictor import Predictor\n",
    "\n",
    "# Hugging Face\n",
    "import transformers\n",
    "from transformers import MarianMTModel, MarianTokenizer\n",
    "\n"
   ]
  },
  {
   "cell_type": "markdown",
   "metadata": {},
   "source": [
    "#### 1.2 Initialize session objects <a class=\"anchor\" id=\"sess\"></a>\n",
    "[Back to top](#home)"
   ]
  },
  {
   "cell_type": "code",
   "execution_count": 19,
   "metadata": {},
   "outputs": [
    {
     "name": "stdout",
     "output_type": "stream",
     "text": [
      "sagemaker role arn: arn:aws:iam::034604206629:role/service-role/AmazonSageMaker-ExecutionRole-20220520T212632\n",
      "sagemaker bucket: sagemaker-ca-central-1-034604206629\n",
      "sagemaker session region: ca-central-1\n"
     ]
    }
   ],
   "source": [
    "# Set up SageMaker session object\n",
    "sess = sagemaker.Session()\n",
    "\n",
    "\n",
    "# Set up sagemaker session bucket. This is used for uploading data, models, and logs\n",
    "sagemaker_session_bucket = None\n",
    "# Set up role\n",
    "try:\n",
    "    role = sagemaker.get_execution_role()\n",
    "except ValueError:\n",
    "    iam = boto3.client('iam')\n",
    "    role = iam.get_role(RoleName = 'sagemaker_execution_role')['Role']['Arn']\n",
    "\n",
    "if sagemaker_session_bucket is None and sess is not None:\n",
    "    # Set to default bucket if no bucket name given\n",
    "    sagemaker_session_bucket = sess.default_bucket()\n",
    "\n",
    "# specify bucket location for session\n",
    "sess = sagemaker.Session(default_bucket = sagemaker_session_bucket)\n",
    "\n",
    "# Specify region for session\n",
    "region = sess.boto_region_name\n",
    "\n",
    "# Initialize sagemaker client\n",
    "sm_client = boto3.client('sagemaker')\n",
    "\n",
    "\n",
    "print(f'sagemaker role arn: {role}')\n",
    "print(f'sagemaker bucket: {sess.default_bucket()}')\n",
    "print(f'sagemaker session region: {region}')"
   ]
  },
  {
   "cell_type": "markdown",
   "metadata": {},
   "source": [
    "## 2. Import models <a class=\"anchor\" id=\"import\"></a>\n",
    "[Back to top](#home)"
   ]
  },
  {
   "cell_type": "markdown",
   "metadata": {},
   "source": [
    "#### 2.1 Prepare model variables <a class=\"anchor\" id=\"names\"></a>\n",
    "(Portuguese is omitted from top 20)<br>\n",
    "[Back to top](#home)"
   ]
  },
  {
   "cell_type": "code",
   "execution_count": 20,
   "metadata": {},
   "outputs": [],
   "source": [
    "# Non english language ISO codes \n",
    "non_en_langs = ['de', 'fr', 'it', 'es', 'ru', 'tr', 'pl', 'ja', 'uk',\n",
    "               'sv', 'fi', 'tl', 'nl', 'cs', 'da', 'zh', 'ar', ]\n",
    "# Get Hugging Face model hub names\n",
    "dest_lang = 'en'\n",
    "\n",
    "# Create list of Hugging Face model IDs to retrieve from the hub\n",
    "model_dict = {lang:{'HF_MODEL_ID':f'Helsinki-NLP/opus-mt-{lang}-{dest_lang}'} for lang in non_en_langs}\n",
    "\n"
   ]
  },
  {
   "cell_type": "markdown",
   "metadata": {},
   "source": [
    "#### 2.2 Download, compress and send models to S3 bucket <a class=\"anchor\" id=\"package\"></a>\n",
    "[Back to top](#home)"
   ]
  },
  {
   "cell_type": "code",
   "execution_count": 21,
   "metadata": {},
   "outputs": [
    {
     "name": "stdout",
     "output_type": "stream",
     "text": [
      "upload: ./translator_nl_to_en.tar.gz to s3://sagemaker-ca-central-1-034604206629/hugging_face/translator/translator_nl_to_en.tar.gz\n",
      "upload: ./translator_cs_to_en.tar.gz to s3://sagemaker-ca-central-1-034604206629/hugging_face/translator/translator_cs_to_en.tar.gz\n",
      "upload: ./translator_da_to_en.tar.gz to s3://sagemaker-ca-central-1-034604206629/hugging_face/translator/translator_da_to_en.tar.gz\n",
      "upload: ./translator_zh_to_en.tar.gz to s3://sagemaker-ca-central-1-034604206629/hugging_face/translator/translator_zh_to_en.tar.gz\n",
      "upload: ./translator_ar_to_en.tar.gz to s3://sagemaker-ca-central-1-034604206629/hugging_face/translator/translator_ar_to_en.tar.gz\n"
     ]
    }
   ],
   "source": [
    "# Download models\n",
    "s3_folder_prefix = 'hugging_face/translator'\n",
    "dest_lang = 'en'\n",
    "\n",
    "# Loop through each language in the language dict, download the model and tokenizer from the HF hub, save as a tae file, transfer the tar file to an S3 bucket\n",
    "for lang in non_en_langs[12:]:\n",
    "    # Load pre-trained model from hugging face hub for language lang\n",
    "    model = MarianMTModel.from_pretrained(model_dict[lang]['HF_MODEL_ID'])\n",
    "    tokenizer = MarianTokenizer.from_pretrained(model_dict[lang]['HF_MODEL_ID'])\n",
    "\n",
    "    # Save model and tokenizer to local directory\n",
    "    model.save_pretrained(f'translator_model_{lang}_to_{dest_lang}/')\n",
    "    tokenizer.save_pretrained(f'translator_model_{lang}_to_{dest_lang}/')\n",
    "    \n",
    "    # Creat file name for tar file\n",
    "    tarfile_name = f'translator_{lang}_to_{dest_lang}.tar.gz'\n",
    "    \n",
    "    # Save the model directory as a tar file\n",
    "    with tarfile.open(tarfile_name, 'w:gz') as f:\n",
    "        f.add(f'translator_model_{lang}_to_{dest_lang}/', arcname='.')\n",
    "    f.close\n",
    "    \n",
    "    # Transfer tar file to session's bucket with selected s3 bucket folder\n",
    "    ! aws s3 cp \"$tarfile_name\" s3://\"$sagemaker_session_bucket\"/\"$s3_folder_prefix\"/\"$tarfile_name\""
   ]
  },
  {
   "cell_type": "markdown",
   "metadata": {},
   "source": [
    "## 3. Create SageMaker multi model endpoint <a class=\"anchor\" id=\"mme\"></a>\n",
    "[Back to top](#home)"
   ]
  },
  {
   "cell_type": "markdown",
   "metadata": {},
   "source": [
    "#### 3.1 Create SageMaker multi data model  <a class=\"anchor\" id=\"multidatamodel\"></a>\n",
    "[Back to top](#home)"
   ]
  },
  {
   "cell_type": "code",
   "execution_count": 22,
   "metadata": {},
   "outputs": [],
   "source": [
    "# Image URI to host model\n",
    "# I believe this thing is a reference to the Docker container image that I want to use. The URI address components can be found at this link: \n",
    "# https://github.com/aws/sagemaker-python-sdk/blob/e0b9d38e1e3b48647a02af23c4be54980e53dc61/src/sagemaker/image_uri_config/huggingface.json\n",
    "URI = '763104351884.dkr.ecr.ca-central-1.amazonaws.com/huggingface-pytorch-inference:1.10.2-transformers4.17.0-cpu-py38-ubuntu20.04'\n",
    "\n",
    "# Not sure what this one is for\n",
    "HUB = {'HF_TASK':'translation'}\n",
    "\n",
    "#  Give a name to the model to retrieve later\n",
    "MODEL_NAME = 'hf-translators'\n",
    "\n",
    "# Create Multi data model\n",
    "mme = MultiDataModel(\n",
    "    name = MODEL_NAME,\n",
    "    model_data_prefix = f's3://{sagemaker_session_bucket}/{s3_folder_prefix}/',\n",
    "    image_uri = URI,\n",
    "    env = HUB,\n",
    "    predictor_cls = Predictor,\n",
    "    role = role,\n",
    "    sagemaker_session = sess\n",
    "    )"
   ]
  },
  {
   "cell_type": "markdown",
   "metadata": {},
   "source": [
    "<i>Review files registered in multi data model</i>"
   ]
  },
  {
   "cell_type": "code",
   "execution_count": 23,
   "metadata": {},
   "outputs": [
    {
     "name": "stdout",
     "output_type": "stream",
     "text": [
      "translator_ar_to_en.tar.gz\n",
      "translator_cs_to_en.tar.gz\n",
      "translator_da_to_en.tar.gz\n",
      "translator_de_to_en.tar.gz\n",
      "translator_es_to_en.tar.gz\n",
      "translator_fr_to_en.tar.gz\n",
      "translator_it_to_en.tar.gz\n",
      "translator_ja_to_en.tar.gz\n",
      "translator_nl_to_en.tar.gz\n",
      "translator_pl_to_en.tar.gz\n",
      "translator_ru_to_en.tar.gz\n",
      "translator_tl_to_en.tar.gz\n",
      "translator_tr_to_en.tar.gz\n",
      "translator_uk_to_en.tar.gz\n",
      "translator_zh_to_en.tar.gz\n"
     ]
    }
   ],
   "source": [
    "for model in mme.list_models():\n",
    "    print(model)"
   ]
  },
  {
   "cell_type": "markdown",
   "metadata": {},
   "source": [
    "#### 3.2 Deploy multi model endpoint  <a class=\"anchor\" id=\"deploy\"></a>\n",
    "[Back to top](#home)"
   ]
  },
  {
   "cell_type": "code",
   "execution_count": 24,
   "metadata": {},
   "outputs": [],
   "source": [
    "# Deploy multi data model as a multi model endpoint (MME)\n",
    "predictor = mme.deploy(\n",
    "    initial_instance_count = 1,\n",
    "    instance_type = 'ml.m5.large',\n",
    "    serializer = JSONSerializer,\n",
    "    deserializer = JSONDeserializer,\n",
    "    endpoint_name = MODEL_NAME,\n",
    "    wait = False\n",
    ")"
   ]
  }
 ],
 "metadata": {
  "instance_type": "ml.t3.medium",
  "kernelspec": {
   "display_name": "Python 3 (ipykernel)",
   "language": "python",
   "name": "python3"
  },
  "language_info": {
   "codemirror_mode": {
    "name": "ipython",
    "version": 3
   },
   "file_extension": ".py",
   "mimetype": "text/x-python",
   "name": "python",
   "nbconvert_exporter": "python",
   "pygments_lexer": "ipython3",
   "version": "3.10.4"
  }
 },
 "nbformat": 4,
 "nbformat_minor": 4
}
